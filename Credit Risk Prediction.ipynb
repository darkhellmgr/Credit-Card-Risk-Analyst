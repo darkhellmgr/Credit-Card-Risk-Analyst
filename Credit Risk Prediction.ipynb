{
 "cells": [
  {
   "cell_type": "code",
   "execution_count": 114,
   "metadata": {},
   "outputs": [],
   "source": [
    "import pandas as pd\n",
    "import numpy as np\n",
    "from sklearn.preprocessing import StandardScaler\n",
    "from sklearn.model_selection import train_test_split\n",
    "from sklearn import svm"
   ]
  },
  {
   "cell_type": "code",
   "execution_count": 115,
   "metadata": {},
   "outputs": [],
   "source": [
    "df = pd.read_csv('/home/suman/Desktop/data/german-credit.txt', sep = \" \")\n",
    "df.columns = [\"Status_of_existing_checking_account\",\"Duration_in_month\", \"Credit_history\", \"Purpose\", \"Credit_amount\",\n",
    "             \"Savings_account\", \"Present_employment_since\", \"Installment_rate_in_percentage_of_disposable_income\", \"Personal_status_and_sex\",\n",
    "             \"Other_debtors_or_guarantors\", \"Present_residence_since\", \"Property\", \"Age_in_years\",\"Other_installment_plans\",\n",
    "              \"Housing\", \"Number_of_existing_credits_at_this_bank\", \"Job\", \"Number_of_people_being_liable_to_provide_maintenance_for\", \n",
    "             \"Telephone\", \"foreign_worker\", \"status\"]"
   ]
  },
  {
   "cell_type": "code",
   "execution_count": 116,
   "metadata": {},
   "outputs": [
    {
     "data": {
      "text/html": [
       "<div>\n",
       "<style scoped>\n",
       "    .dataframe tbody tr th:only-of-type {\n",
       "        vertical-align: middle;\n",
       "    }\n",
       "\n",
       "    .dataframe tbody tr th {\n",
       "        vertical-align: top;\n",
       "    }\n",
       "\n",
       "    .dataframe thead th {\n",
       "        text-align: right;\n",
       "    }\n",
       "</style>\n",
       "<table border=\"1\" class=\"dataframe\">\n",
       "  <thead>\n",
       "    <tr style=\"text-align: right;\">\n",
       "      <th></th>\n",
       "      <th>Status_of_existing_checking_account</th>\n",
       "      <th>Duration_in_month</th>\n",
       "      <th>Credit_history</th>\n",
       "      <th>Purpose</th>\n",
       "      <th>Credit_amount</th>\n",
       "      <th>Savings_account</th>\n",
       "      <th>Present_employment_since</th>\n",
       "      <th>Installment_rate_in_percentage_of_disposable_income</th>\n",
       "      <th>Personal_status_and_sex</th>\n",
       "      <th>Other_debtors_or_guarantors</th>\n",
       "      <th>...</th>\n",
       "      <th>Property</th>\n",
       "      <th>Age_in_years</th>\n",
       "      <th>Other_installment_plans</th>\n",
       "      <th>Housing</th>\n",
       "      <th>Number_of_existing_credits_at_this_bank</th>\n",
       "      <th>Job</th>\n",
       "      <th>Number_of_people_being_liable_to_provide_maintenance_for</th>\n",
       "      <th>Telephone</th>\n",
       "      <th>foreign_worker</th>\n",
       "      <th>status</th>\n",
       "    </tr>\n",
       "  </thead>\n",
       "  <tbody>\n",
       "    <tr>\n",
       "      <th>0</th>\n",
       "      <td>A12</td>\n",
       "      <td>48</td>\n",
       "      <td>A32</td>\n",
       "      <td>A43</td>\n",
       "      <td>5951</td>\n",
       "      <td>A61</td>\n",
       "      <td>A73</td>\n",
       "      <td>2</td>\n",
       "      <td>A92</td>\n",
       "      <td>A101</td>\n",
       "      <td>...</td>\n",
       "      <td>A121</td>\n",
       "      <td>22</td>\n",
       "      <td>A143</td>\n",
       "      <td>A152</td>\n",
       "      <td>1</td>\n",
       "      <td>A173</td>\n",
       "      <td>1</td>\n",
       "      <td>A191</td>\n",
       "      <td>A201</td>\n",
       "      <td>2</td>\n",
       "    </tr>\n",
       "    <tr>\n",
       "      <th>1</th>\n",
       "      <td>A14</td>\n",
       "      <td>12</td>\n",
       "      <td>A34</td>\n",
       "      <td>A46</td>\n",
       "      <td>2096</td>\n",
       "      <td>A61</td>\n",
       "      <td>A74</td>\n",
       "      <td>2</td>\n",
       "      <td>A93</td>\n",
       "      <td>A101</td>\n",
       "      <td>...</td>\n",
       "      <td>A121</td>\n",
       "      <td>49</td>\n",
       "      <td>A143</td>\n",
       "      <td>A152</td>\n",
       "      <td>1</td>\n",
       "      <td>A172</td>\n",
       "      <td>2</td>\n",
       "      <td>A191</td>\n",
       "      <td>A201</td>\n",
       "      <td>1</td>\n",
       "    </tr>\n",
       "    <tr>\n",
       "      <th>2</th>\n",
       "      <td>A11</td>\n",
       "      <td>42</td>\n",
       "      <td>A32</td>\n",
       "      <td>A42</td>\n",
       "      <td>7882</td>\n",
       "      <td>A61</td>\n",
       "      <td>A74</td>\n",
       "      <td>2</td>\n",
       "      <td>A93</td>\n",
       "      <td>A103</td>\n",
       "      <td>...</td>\n",
       "      <td>A122</td>\n",
       "      <td>45</td>\n",
       "      <td>A143</td>\n",
       "      <td>A153</td>\n",
       "      <td>1</td>\n",
       "      <td>A173</td>\n",
       "      <td>2</td>\n",
       "      <td>A191</td>\n",
       "      <td>A201</td>\n",
       "      <td>1</td>\n",
       "    </tr>\n",
       "    <tr>\n",
       "      <th>3</th>\n",
       "      <td>A11</td>\n",
       "      <td>24</td>\n",
       "      <td>A33</td>\n",
       "      <td>A40</td>\n",
       "      <td>4870</td>\n",
       "      <td>A61</td>\n",
       "      <td>A73</td>\n",
       "      <td>3</td>\n",
       "      <td>A93</td>\n",
       "      <td>A101</td>\n",
       "      <td>...</td>\n",
       "      <td>A124</td>\n",
       "      <td>53</td>\n",
       "      <td>A143</td>\n",
       "      <td>A153</td>\n",
       "      <td>2</td>\n",
       "      <td>A173</td>\n",
       "      <td>2</td>\n",
       "      <td>A191</td>\n",
       "      <td>A201</td>\n",
       "      <td>2</td>\n",
       "    </tr>\n",
       "    <tr>\n",
       "      <th>4</th>\n",
       "      <td>A14</td>\n",
       "      <td>36</td>\n",
       "      <td>A32</td>\n",
       "      <td>A46</td>\n",
       "      <td>9055</td>\n",
       "      <td>A65</td>\n",
       "      <td>A73</td>\n",
       "      <td>2</td>\n",
       "      <td>A93</td>\n",
       "      <td>A101</td>\n",
       "      <td>...</td>\n",
       "      <td>A124</td>\n",
       "      <td>35</td>\n",
       "      <td>A143</td>\n",
       "      <td>A153</td>\n",
       "      <td>1</td>\n",
       "      <td>A172</td>\n",
       "      <td>2</td>\n",
       "      <td>A192</td>\n",
       "      <td>A201</td>\n",
       "      <td>1</td>\n",
       "    </tr>\n",
       "  </tbody>\n",
       "</table>\n",
       "<p>5 rows × 21 columns</p>\n",
       "</div>"
      ],
      "text/plain": [
       "  Status_of_existing_checking_account  Duration_in_month Credit_history  \\\n",
       "0                                 A12                 48            A32   \n",
       "1                                 A14                 12            A34   \n",
       "2                                 A11                 42            A32   \n",
       "3                                 A11                 24            A33   \n",
       "4                                 A14                 36            A32   \n",
       "\n",
       "  Purpose  Credit_amount Savings_account Present_employment_since  \\\n",
       "0     A43           5951             A61                      A73   \n",
       "1     A46           2096             A61                      A74   \n",
       "2     A42           7882             A61                      A74   \n",
       "3     A40           4870             A61                      A73   \n",
       "4     A46           9055             A65                      A73   \n",
       "\n",
       "   Installment_rate_in_percentage_of_disposable_income  \\\n",
       "0                                                  2     \n",
       "1                                                  2     \n",
       "2                                                  2     \n",
       "3                                                  3     \n",
       "4                                                  2     \n",
       "\n",
       "  Personal_status_and_sex Other_debtors_or_guarantors  ...    Property  \\\n",
       "0                     A92                        A101  ...        A121   \n",
       "1                     A93                        A101  ...        A121   \n",
       "2                     A93                        A103  ...        A122   \n",
       "3                     A93                        A101  ...        A124   \n",
       "4                     A93                        A101  ...        A124   \n",
       "\n",
       "  Age_in_years  Other_installment_plans Housing  \\\n",
       "0           22                     A143    A152   \n",
       "1           49                     A143    A152   \n",
       "2           45                     A143    A153   \n",
       "3           53                     A143    A153   \n",
       "4           35                     A143    A153   \n",
       "\n",
       "  Number_of_existing_credits_at_this_bank   Job  \\\n",
       "0                                       1  A173   \n",
       "1                                       1  A172   \n",
       "2                                       1  A173   \n",
       "3                                       2  A173   \n",
       "4                                       1  A172   \n",
       "\n",
       "  Number_of_people_being_liable_to_provide_maintenance_for  Telephone  \\\n",
       "0                                                  1             A191   \n",
       "1                                                  2             A191   \n",
       "2                                                  2             A191   \n",
       "3                                                  2             A191   \n",
       "4                                                  2             A192   \n",
       "\n",
       "  foreign_worker status  \n",
       "0           A201      2  \n",
       "1           A201      1  \n",
       "2           A201      1  \n",
       "3           A201      2  \n",
       "4           A201      1  \n",
       "\n",
       "[5 rows x 21 columns]"
      ]
     },
     "execution_count": 116,
     "metadata": {},
     "output_type": "execute_result"
    }
   ],
   "source": [
    "df.head()"
   ]
  },
  {
   "cell_type": "code",
   "execution_count": 117,
   "metadata": {},
   "outputs": [],
   "source": [
    "cat_columns = df.select_dtypes(['object']).columns"
   ]
  },
  {
   "cell_type": "code",
   "execution_count": 118,
   "metadata": {},
   "outputs": [],
   "source": [
    "for col_names  in cat_columns:\n",
    "    if(df[col_names].dtype == 'object'):\n",
    "        df[col_names] = df[col_names].astype('category')\n",
    "        df[col_names] = df[col_names].cat.codes"
   ]
  },
  {
   "cell_type": "code",
   "execution_count": 119,
   "metadata": {},
   "outputs": [
    {
     "data": {
      "text/html": [
       "<div>\n",
       "<style scoped>\n",
       "    .dataframe tbody tr th:only-of-type {\n",
       "        vertical-align: middle;\n",
       "    }\n",
       "\n",
       "    .dataframe tbody tr th {\n",
       "        vertical-align: top;\n",
       "    }\n",
       "\n",
       "    .dataframe thead th {\n",
       "        text-align: right;\n",
       "    }\n",
       "</style>\n",
       "<table border=\"1\" class=\"dataframe\">\n",
       "  <thead>\n",
       "    <tr style=\"text-align: right;\">\n",
       "      <th></th>\n",
       "      <th>Status_of_existing_checking_account</th>\n",
       "      <th>Duration_in_month</th>\n",
       "      <th>Credit_history</th>\n",
       "      <th>Purpose</th>\n",
       "      <th>Credit_amount</th>\n",
       "      <th>Savings_account</th>\n",
       "      <th>Present_employment_since</th>\n",
       "      <th>Installment_rate_in_percentage_of_disposable_income</th>\n",
       "      <th>Personal_status_and_sex</th>\n",
       "      <th>Other_debtors_or_guarantors</th>\n",
       "      <th>...</th>\n",
       "      <th>Property</th>\n",
       "      <th>Age_in_years</th>\n",
       "      <th>Other_installment_plans</th>\n",
       "      <th>Housing</th>\n",
       "      <th>Number_of_existing_credits_at_this_bank</th>\n",
       "      <th>Job</th>\n",
       "      <th>Number_of_people_being_liable_to_provide_maintenance_for</th>\n",
       "      <th>Telephone</th>\n",
       "      <th>foreign_worker</th>\n",
       "      <th>status</th>\n",
       "    </tr>\n",
       "  </thead>\n",
       "  <tbody>\n",
       "    <tr>\n",
       "      <th>0</th>\n",
       "      <td>1</td>\n",
       "      <td>48</td>\n",
       "      <td>2</td>\n",
       "      <td>4</td>\n",
       "      <td>5951</td>\n",
       "      <td>0</td>\n",
       "      <td>2</td>\n",
       "      <td>2</td>\n",
       "      <td>1</td>\n",
       "      <td>0</td>\n",
       "      <td>...</td>\n",
       "      <td>0</td>\n",
       "      <td>22</td>\n",
       "      <td>2</td>\n",
       "      <td>1</td>\n",
       "      <td>1</td>\n",
       "      <td>2</td>\n",
       "      <td>1</td>\n",
       "      <td>0</td>\n",
       "      <td>0</td>\n",
       "      <td>2</td>\n",
       "    </tr>\n",
       "    <tr>\n",
       "      <th>1</th>\n",
       "      <td>3</td>\n",
       "      <td>12</td>\n",
       "      <td>4</td>\n",
       "      <td>7</td>\n",
       "      <td>2096</td>\n",
       "      <td>0</td>\n",
       "      <td>3</td>\n",
       "      <td>2</td>\n",
       "      <td>2</td>\n",
       "      <td>0</td>\n",
       "      <td>...</td>\n",
       "      <td>0</td>\n",
       "      <td>49</td>\n",
       "      <td>2</td>\n",
       "      <td>1</td>\n",
       "      <td>1</td>\n",
       "      <td>1</td>\n",
       "      <td>2</td>\n",
       "      <td>0</td>\n",
       "      <td>0</td>\n",
       "      <td>1</td>\n",
       "    </tr>\n",
       "    <tr>\n",
       "      <th>2</th>\n",
       "      <td>0</td>\n",
       "      <td>42</td>\n",
       "      <td>2</td>\n",
       "      <td>3</td>\n",
       "      <td>7882</td>\n",
       "      <td>0</td>\n",
       "      <td>3</td>\n",
       "      <td>2</td>\n",
       "      <td>2</td>\n",
       "      <td>2</td>\n",
       "      <td>...</td>\n",
       "      <td>1</td>\n",
       "      <td>45</td>\n",
       "      <td>2</td>\n",
       "      <td>2</td>\n",
       "      <td>1</td>\n",
       "      <td>2</td>\n",
       "      <td>2</td>\n",
       "      <td>0</td>\n",
       "      <td>0</td>\n",
       "      <td>1</td>\n",
       "    </tr>\n",
       "    <tr>\n",
       "      <th>3</th>\n",
       "      <td>0</td>\n",
       "      <td>24</td>\n",
       "      <td>3</td>\n",
       "      <td>0</td>\n",
       "      <td>4870</td>\n",
       "      <td>0</td>\n",
       "      <td>2</td>\n",
       "      <td>3</td>\n",
       "      <td>2</td>\n",
       "      <td>0</td>\n",
       "      <td>...</td>\n",
       "      <td>3</td>\n",
       "      <td>53</td>\n",
       "      <td>2</td>\n",
       "      <td>2</td>\n",
       "      <td>2</td>\n",
       "      <td>2</td>\n",
       "      <td>2</td>\n",
       "      <td>0</td>\n",
       "      <td>0</td>\n",
       "      <td>2</td>\n",
       "    </tr>\n",
       "    <tr>\n",
       "      <th>4</th>\n",
       "      <td>3</td>\n",
       "      <td>36</td>\n",
       "      <td>2</td>\n",
       "      <td>7</td>\n",
       "      <td>9055</td>\n",
       "      <td>4</td>\n",
       "      <td>2</td>\n",
       "      <td>2</td>\n",
       "      <td>2</td>\n",
       "      <td>0</td>\n",
       "      <td>...</td>\n",
       "      <td>3</td>\n",
       "      <td>35</td>\n",
       "      <td>2</td>\n",
       "      <td>2</td>\n",
       "      <td>1</td>\n",
       "      <td>1</td>\n",
       "      <td>2</td>\n",
       "      <td>1</td>\n",
       "      <td>0</td>\n",
       "      <td>1</td>\n",
       "    </tr>\n",
       "  </tbody>\n",
       "</table>\n",
       "<p>5 rows × 21 columns</p>\n",
       "</div>"
      ],
      "text/plain": [
       "   Status_of_existing_checking_account  Duration_in_month  Credit_history  \\\n",
       "0                                    1                 48               2   \n",
       "1                                    3                 12               4   \n",
       "2                                    0                 42               2   \n",
       "3                                    0                 24               3   \n",
       "4                                    3                 36               2   \n",
       "\n",
       "   Purpose  Credit_amount  Savings_account  Present_employment_since  \\\n",
       "0        4           5951                0                         2   \n",
       "1        7           2096                0                         3   \n",
       "2        3           7882                0                         3   \n",
       "3        0           4870                0                         2   \n",
       "4        7           9055                4                         2   \n",
       "\n",
       "   Installment_rate_in_percentage_of_disposable_income  \\\n",
       "0                                                  2     \n",
       "1                                                  2     \n",
       "2                                                  2     \n",
       "3                                                  3     \n",
       "4                                                  2     \n",
       "\n",
       "   Personal_status_and_sex  Other_debtors_or_guarantors   ...    Property  \\\n",
       "0                        1                            0   ...           0   \n",
       "1                        2                            0   ...           0   \n",
       "2                        2                            2   ...           1   \n",
       "3                        2                            0   ...           3   \n",
       "4                        2                            0   ...           3   \n",
       "\n",
       "   Age_in_years  Other_installment_plans  Housing  \\\n",
       "0            22                        2        1   \n",
       "1            49                        2        1   \n",
       "2            45                        2        2   \n",
       "3            53                        2        2   \n",
       "4            35                        2        2   \n",
       "\n",
       "   Number_of_existing_credits_at_this_bank  Job  \\\n",
       "0                                        1    2   \n",
       "1                                        1    1   \n",
       "2                                        1    2   \n",
       "3                                        2    2   \n",
       "4                                        1    1   \n",
       "\n",
       "   Number_of_people_being_liable_to_provide_maintenance_for  Telephone  \\\n",
       "0                                                  1                 0   \n",
       "1                                                  2                 0   \n",
       "2                                                  2                 0   \n",
       "3                                                  2                 0   \n",
       "4                                                  2                 1   \n",
       "\n",
       "   foreign_worker  status  \n",
       "0               0       2  \n",
       "1               0       1  \n",
       "2               0       1  \n",
       "3               0       2  \n",
       "4               0       1  \n",
       "\n",
       "[5 rows x 21 columns]"
      ]
     },
     "execution_count": 119,
     "metadata": {},
     "output_type": "execute_result"
    }
   ],
   "source": [
    "df.head()"
   ]
  },
  {
   "cell_type": "code",
   "execution_count": 120,
   "metadata": {},
   "outputs": [],
   "source": [
    "X = np.array(df.drop(['status'], axis = 1))\n",
    "y = np.array(df['status'])"
   ]
  },
  {
   "cell_type": "code",
   "execution_count": 121,
   "metadata": {},
   "outputs": [
    {
     "name": "stderr",
     "output_type": "stream",
     "text": [
      "/usr/local/lib/python3.6/dist-packages/sklearn/utils/validation.py:475: DataConversionWarning: Data with input dtype int64 was converted to float64 by StandardScaler.\n",
      "  warnings.warn(msg, DataConversionWarning)\n"
     ]
    }
   ],
   "source": [
    "scalar = StandardScaler()\n",
    "scaled_X = scalar.fit_transform(X)"
   ]
  },
  {
   "cell_type": "code",
   "execution_count": 122,
   "metadata": {},
   "outputs": [
    {
     "data": {
      "text/plain": [
       "array([[ 1, 48,  2, ...,  1,  0,  0],\n",
       "       [ 3, 12,  4, ...,  2,  0,  0],\n",
       "       [ 0, 42,  2, ...,  2,  0,  0],\n",
       "       ...,\n",
       "       [ 3, 12,  2, ...,  1,  0,  0],\n",
       "       [ 0, 45,  2, ...,  1,  1,  0],\n",
       "       [ 1, 45,  4, ...,  1,  0,  0]])"
      ]
     },
     "execution_count": 122,
     "metadata": {},
     "output_type": "execute_result"
    }
   ],
   "source": [
    "X"
   ]
  },
  {
   "cell_type": "code",
   "execution_count": 131,
   "metadata": {},
   "outputs": [
    {
     "data": {
      "text/plain": [
       "array([[-0.4604147 ,  2.24755338, -0.50228581, ..., -0.42854322,\n",
       "        -0.8222983 , -0.19611614],\n",
       "       [ 1.13112262, -0.74010176,  1.34590397, ...,  2.33348694,\n",
       "        -0.8222983 , -0.19611614],\n",
       "       [-1.25618336,  1.74961086, -0.50228581, ...,  2.33348694,\n",
       "        -0.8222983 , -0.19611614],\n",
       "       ...,\n",
       "       [ 1.13112262, -0.74010176, -0.50228581, ..., -0.42854322,\n",
       "        -0.8222983 , -0.19611614],\n",
       "       [-1.25618336,  1.99858212, -0.50228581, ..., -0.42854322,\n",
       "         1.21610369, -0.19611614],\n",
       "       [-0.4604147 ,  1.99858212,  1.34590397, ..., -0.42854322,\n",
       "        -0.8222983 , -0.19611614]])"
      ]
     },
     "execution_count": 131,
     "metadata": {},
     "output_type": "execute_result"
    }
   ],
   "source": [
    "X = scaled_X\n",
    "X"
   ]
  },
  {
   "cell_type": "code",
   "execution_count": 124,
   "metadata": {},
   "outputs": [],
   "source": [
    "# scaled_X.mean(axis = 0)\n",
    "# scaled_X.std(axis = 0)\n"
   ]
  },
  {
   "cell_type": "code",
   "execution_count": 125,
   "metadata": {},
   "outputs": [],
   "source": [
    "X_train, X_test, y_train, y_test = train_test_split(X, y, test_size=0.20, shuffle=False)"
   ]
  },
  {
   "cell_type": "code",
   "execution_count": 126,
   "metadata": {},
   "outputs": [],
   "source": [
    "clf = svm.SVC()"
   ]
  },
  {
   "cell_type": "code",
   "execution_count": 127,
   "metadata": {},
   "outputs": [
    {
     "data": {
      "text/plain": [
       "SVC(C=1.0, cache_size=200, class_weight=None, coef0=0.0,\n",
       "  decision_function_shape='ovr', degree=3, gamma='auto', kernel='rbf',\n",
       "  max_iter=-1, probability=False, random_state=None, shrinking=True,\n",
       "  tol=0.001, verbose=False)"
      ]
     },
     "execution_count": 127,
     "metadata": {},
     "output_type": "execute_result"
    }
   ],
   "source": [
    "clf.fit(X_train,y_train)"
   ]
  },
  {
   "cell_type": "code",
   "execution_count": 128,
   "metadata": {},
   "outputs": [
    {
     "data": {
      "text/plain": [
       "array([1, 1, 1, 1, 1, 2, 1, 1, 1, 2, 1, 1, 2, 2, 2, 1, 1, 1, 2, 1, 1, 1,\n",
       "       1, 1, 1, 1, 1, 1, 2, 1, 1, 2, 2, 1, 1, 2, 1, 1, 1, 1, 2, 1, 1, 1,\n",
       "       1, 1, 1, 1, 1, 1, 1, 1, 1, 2, 1, 1, 1, 1, 1, 1, 1, 1, 2, 1, 1, 1,\n",
       "       2, 1, 1, 2, 1, 1, 1, 1, 1, 1, 1, 1, 1, 1, 1, 1, 1, 1, 1, 2, 1, 2,\n",
       "       1, 1, 1, 1, 1, 1, 1, 1, 2, 1, 1, 1, 1, 1, 1, 1, 1, 1, 1, 1, 1, 1,\n",
       "       1, 1, 1, 1, 2, 1, 1, 2, 2, 1, 1, 1, 2, 1, 1, 1, 2, 2, 1, 2, 1, 1,\n",
       "       1, 1, 2, 2, 1, 1, 2, 1, 1, 1, 1, 1, 1, 2, 1, 1, 1, 1, 1, 1, 2, 2,\n",
       "       1, 1, 1, 1, 2, 1, 1, 1, 1, 1, 1, 1, 1, 1, 1, 1, 1, 1, 2, 2, 1, 1,\n",
       "       1, 1, 1, 1, 1, 2, 1, 1, 1, 2, 2, 1, 1, 1, 1, 2, 1, 2, 1, 1, 2, 1,\n",
       "       2, 2])"
      ]
     },
     "execution_count": 128,
     "metadata": {},
     "output_type": "execute_result"
    }
   ],
   "source": [
    "clf.predict(X_test)"
   ]
  },
  {
   "cell_type": "code",
   "execution_count": 129,
   "metadata": {},
   "outputs": [
    {
     "data": {
      "text/plain": [
       "0.765"
      ]
     },
     "execution_count": 129,
     "metadata": {},
     "output_type": "execute_result"
    }
   ],
   "source": [
    "clf.score(X_test,y_test)"
   ]
  },
  {
   "cell_type": "code",
   "execution_count": 134,
   "metadata": {},
   "outputs": [
    {
     "data": {
      "text/plain": [
       "array([1])"
      ]
     },
     "execution_count": 134,
     "metadata": {},
     "output_type": "execute_result"
    }
   ],
   "source": [
    "clf.predict([[6,1,48,2,4,595100,0,2,2,1,0,0,22,2,1,1,2,1,0,0]])"
   ]
  },
  {
   "cell_type": "code",
   "execution_count": null,
   "metadata": {},
   "outputs": [],
   "source": []
  }
 ],
 "metadata": {
  "kernelspec": {
   "display_name": "Python 3",
   "language": "python",
   "name": "python3"
  },
  "language_info": {
   "codemirror_mode": {
    "name": "ipython",
    "version": 3
   },
   "file_extension": ".py",
   "mimetype": "text/x-python",
   "name": "python",
   "nbconvert_exporter": "python",
   "pygments_lexer": "ipython3",
   "version": "3.6.5"
  }
 },
 "nbformat": 4,
 "nbformat_minor": 2
}
